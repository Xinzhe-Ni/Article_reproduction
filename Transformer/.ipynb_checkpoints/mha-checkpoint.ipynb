{
 "cells": [
  {
   "cell_type": "code",
   "execution_count": null,
   "id": "1b162000",
   "metadata": {},
   "outputs": [],
   "source": [
    "### Multi-Headed Attention (MHA)\n",
    "\n",
    "import math\n",
    "from typing import Optional, List\n",
    "\n",
    "import torch\n",
    "from torch import nn as nn\n",
    "\n",
    "from labml import tracker\n",
    "from labml_helpers.module import Module"
   ]
  },
  {
   "cell_type": "code",
   "execution_count": null,
   "id": "a1faa3d9",
   "metadata": {},
   "outputs": [],
   "source": [
    "class PrepareForMultiHeadAttention(Module):\n",
    "    \n",
    "    def __init__(self, d_model: int, heads: int, d_k: int, bias: bool):\n",
    "        super().__init__()\n",
    "        self.linear = nn.Linear(d_model, heads * d_k, bias=bias)   # 将最后一个维度线性投影到heads*d_k维度\n",
    "        self.heads = heads\n",
    "        self.d_k = d_k\n",
    "    \n",
    "    def forward(self, x: torch.Tensor):\n",
    "        head_shape = x.shape[:-1]   # 保存前两个维度的信息\n",
    "        x = self.linear(x)\n",
    "        x = x.view(*head_shape, self.heads, self.d_k)   # 在最后一个维度进行分解\n",
    "        return x   # x的形状为（seq_len, batch_size, heads, d_k）"
   ]
  },
  {
   "cell_type": "code",
   "execution_count": null,
   "id": "8794df1b",
   "metadata": {},
   "outputs": [],
   "source": [
    "class MultiHeadAttention(Module):\n",
    "    \n",
    "    def __init__(self, heads: int, d_model: int, dropout_prob: float = 0.1, bias: bool = True):\n",
    "        super().__init__()\n",
    "        self.d_k = d_model // heads\n",
    "        self.heads = heads\n",
    "        self.query = PrepareForMultiHeadAttention(d_model, heads, self.d_k, bias=bias)\n",
    "        self.key = PrepareForMultiHeadAttention(d_model, heads, self.d_k, bias=bias)\n",
    "        self.value = PrepareForMultiHeadAttention(d_model, heads, self.d_k, bias=True)\n",
    "        self.softmax = nn.Softmax(dim=1)\n",
    "        self.output = nn.Linear(d_model, d_model)\n",
    "        self.dropout = nn.Dropout(dropout_prob)\n",
    "        self.scale = 1 / math.sqrt(self.d_k)\n",
    "        self.attn = None\n",
    "        \n",
    "    def get_scores(self, query: torch.Tensor, key: torch.Tensor):\n",
    "        return torch.einsum('ibhd,jbhd->ijbh', query, key)   # 求QK^T,形状为（seq_len, seq_len, batch_size, heads）\n",
    "    \n",
    "    def prepare_mask(self, mask: torch.Tensor, query_shape: List[int], key_shape: List[int]):   # mask的形状为（seq_len_q, seq_len_k, batch_size）\n",
    "        assert mask.shape[0] == 1 or mask.shape[0] == query_shape[0]\n",
    "        assert mask.shape[1] == key_shape[0]\n",
    "        assert mask.shape[2] == 1 or mask.shape[2] == query_shape[1]\n",
    "        mask = mask.unsqueeze(-1)   # 在最后一个维度增加一个维度，即head维度\n",
    "        return mask\n",
    "    \n",
    "    def forward(self, *,\n",
    "                query: torch.Tensor,\n",
    "                key: torch.Tensor,\n",
    "                value: torch.Tensor,\n",
    "                mask: Optional[torch.Tensor] = None):   # query, key, value的形状都是（seq_len, batch_size, d_model）seq_len, batch_size, _ = query.shape\n",
    "        if mask is not None:\n",
    "            mask = self.prepare_mask(mask, query.shape, key.shape)\n",
    "        query = self.query(query)\n",
    "        key = self.key(key)\n",
    "        value = self.value(value)\n",
    "        scores = self.get_scores(query, key)\n",
    "        scores *= self.scale\n",
    "        if mask is not None:\n",
    "            scores = scores.masked_fill(mask == 0, float('-inf'))   # 将mask的0的位置用负无穷代替\n",
    "        attn = self.softmax(scores)\n",
    "        tracker.debug('attn', attn)\n",
    "        attn = self.dropout(attn)\n",
    "        x = torch.einsum(\"ijbh,jbhd->ibhd\", attn, value)\n",
    "        self.attn = attn.detach()   # detach之后的attn永远不求梯度\n",
    "        x = x.reshape(seq_len, batch_size, -1)\n",
    "        return self.output(x)"
   ]
  }
 ],
 "metadata": {
  "kernelspec": {
   "display_name": "Python 3 (ipykernel)",
   "language": "python",
   "name": "python3"
  },
  "language_info": {
   "codemirror_mode": {
    "name": "ipython",
    "version": 3
   },
   "file_extension": ".py",
   "mimetype": "text/x-python",
   "name": "python",
   "nbconvert_exporter": "python",
   "pygments_lexer": "ipython3",
   "version": "3.8.12"
  },
  "varInspector": {
   "cols": {
    "lenName": 16,
    "lenType": 16,
    "lenVar": 40
   },
   "kernels_config": {
    "python": {
     "delete_cmd_postfix": "",
     "delete_cmd_prefix": "del ",
     "library": "var_list.py",
     "varRefreshCmd": "print(var_dic_list())"
    },
    "r": {
     "delete_cmd_postfix": ") ",
     "delete_cmd_prefix": "rm(",
     "library": "var_list.r",
     "varRefreshCmd": "cat(var_dic_list()) "
    }
   },
   "types_to_exclude": [
    "module",
    "function",
    "builtin_function_or_method",
    "instance",
    "_Feature"
   ],
   "window_display": false
  }
 },
 "nbformat": 4,
 "nbformat_minor": 5
}
