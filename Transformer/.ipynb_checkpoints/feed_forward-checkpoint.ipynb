{
 "cells": [
  {
   "cell_type": "code",
   "execution_count": null,
   "id": "eb7a1bc3",
   "metadata": {},
   "outputs": [],
   "source": [
    "### Position-wise Feed-Forward Network (FFN)\n",
    "\n",
    "import torch\n",
    "from torch import nn as nn\n",
    "\n",
    "from labml_helpers.module import Module"
   ]
  },
  {
   "cell_type": "code",
   "execution_count": null,
   "id": "8c8e74f9",
   "metadata": {},
   "outputs": [],
   "source": [
    "class FeedForward(Module):\n",
    "    \n",
    "    def __init__(self, d_model: int, d_ff: int,   # d_ff是隐层节点数\n",
    "                 dropout: float = 0.1,\n",
    "                 activation=nn.ReLU(),\n",
    "                 is_gated: bool = False,\n",
    "                 bias1: bool = True,\n",
    "                 bias2: bool = True,\n",
    "                 bias_gate: bool = True):\n",
    "        super().__init__()\n",
    "        self.layer1 = nn.Linear(d_model, d_ff, bias=bias1)\n",
    "        self.layer2 = nn.Linear(d_ff, d_model, bias=bias2)\n",
    "        self.dropout = nn.Dropout(dropout)\n",
    "        self.activation = activation\n",
    "        self.is_gated = is_gated\n",
    "        if is_gated:\n",
    "            self.linear_v = nn.Linear(d_model, d_ff, bias=bias_gate)\n",
    "            \n",
    "    def forward(self, x: torch.Tensor):\n",
    "        g = self.activation(self.layer1(x))\n",
    "        if self.is_gated:\n",
    "            x = g * self.linear_v(x)\n",
    "        else:\n",
    "            x = g\n",
    "        x = self.dropout(x)\n",
    "        return self.layer2(x)"
   ]
  }
 ],
 "metadata": {
  "kernelspec": {
   "display_name": "Python 3 (ipykernel)",
   "language": "python",
   "name": "python3"
  },
  "language_info": {
   "codemirror_mode": {
    "name": "ipython",
    "version": 3
   },
   "file_extension": ".py",
   "mimetype": "text/x-python",
   "name": "python",
   "nbconvert_exporter": "python",
   "pygments_lexer": "ipython3",
   "version": "3.8.12"
  },
  "varInspector": {
   "cols": {
    "lenName": 16,
    "lenType": 16,
    "lenVar": 40
   },
   "kernels_config": {
    "python": {
     "delete_cmd_postfix": "",
     "delete_cmd_prefix": "del ",
     "library": "var_list.py",
     "varRefreshCmd": "print(var_dic_list())"
    },
    "r": {
     "delete_cmd_postfix": ") ",
     "delete_cmd_prefix": "rm(",
     "library": "var_list.r",
     "varRefreshCmd": "cat(var_dic_list()) "
    }
   },
   "types_to_exclude": [
    "module",
    "function",
    "builtin_function_or_method",
    "instance",
    "_Feature"
   ],
   "window_display": false
  }
 },
 "nbformat": 4,
 "nbformat_minor": 5
}
